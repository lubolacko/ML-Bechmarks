{
 "cells": [
  {
   "cell_type": "code",
   "execution_count": 88,
   "id": "1d9d96ef",
   "metadata": {},
   "outputs": [],
   "source": [
    "#načítanie knihy \n",
    "kniha1 = open('./Rivers of Babylon.txt', 'r', encoding=\"utf8\")\n",
    "kniha1 = kniha1.read()\n"
   ]
  },
  {
   "cell_type": "code",
   "execution_count": 89,
   "id": "737685e2",
   "metadata": {
    "collapsed": true
   },
   "outputs": [
    {
     "name": "stderr",
     "output_type": "stream",
     "text": [
      "[nltk_data] Downloading package punkt to /home/lubolacko/nltk_data...\n",
      "[nltk_data]   Package punkt is already up-to-date!\n"
     ]
    },
    {
     "data": {
      "text/plain": [
       "['ráno',\n",
       " 'sa',\n",
       " 'kotolník',\n",
       " 'zobúdza',\n",
       " 's',\n",
       " 'takou',\n",
       " 'nenávisťou',\n",
       " 'v',\n",
       " 'duši',\n",
       " ',',\n",
       " 'že',\n",
       " 'mu',\n",
       " 'ani',\n",
       " 'jesť',\n",
       " 'nechutí',\n",
       " '.',\n",
       " 'vylihuje',\n",
       " 'na',\n",
       " 'drevenej',\n",
       " 'lavici',\n",
       " ',',\n",
       " 'škrabe',\n",
       " 'si',\n",
       " 'svrbiacu',\n",
       " 'kožu',\n",
       " ',',\n",
       " 'napnutú',\n",
       " 'na',\n",
       " 'vysadených',\n",
       " 'rebrách']"
      ]
     },
     "execution_count": 89,
     "metadata": {},
     "output_type": "execute_result"
    }
   ],
   "source": [
    "import nltk\n",
    "nltk.download('punkt')\n",
    "from nltk.tokenize import word_tokenize\n",
    "\n",
    "slova = word_tokenize(kniha1.lower())\n",
    "slova [:30]\n"
   ]
  },
  {
   "cell_type": "code",
   "execution_count": 90,
   "id": "4ad3c862",
   "metadata": {
    "collapsed": true
   },
   "outputs": [
    {
     "data": {
      "text/plain": [
       "'!\"#$%&\\'()*+,-./:;<=>?@[\\\\]^_`{|}~'"
      ]
     },
     "execution_count": 90,
     "metadata": {},
     "output_type": "execute_result"
    }
   ],
   "source": [
    "import string\n",
    "punct = string.punctuation\n",
    "punct \n"
   ]
  },
  {
   "cell_type": "code",
   "execution_count": 91,
   "id": "a9dd32f7",
   "metadata": {
    "collapsed": true
   },
   "outputs": [
    {
     "name": "stdout",
     "output_type": "stream",
     "text": [
      "Počet slov: 90374 unikátnych 19679\n"
     ]
    },
    {
     "data": {
      "text/plain": [
       "['ráno',\n",
       " 'sa',\n",
       " 'kotolník',\n",
       " 'zobúdza',\n",
       " 's',\n",
       " 'takou',\n",
       " 'nenávisťou',\n",
       " 'v',\n",
       " 'duši',\n",
       " 'že',\n",
       " 'mu',\n",
       " 'ani',\n",
       " 'jesť',\n",
       " 'nechutí',\n",
       " 'vylihuje',\n",
       " 'na',\n",
       " 'drevenej',\n",
       " 'lavici',\n",
       " 'škrabe',\n",
       " 'si',\n",
       " 'svrbiacu',\n",
       " 'kožu',\n",
       " 'napnutú',\n",
       " 'na',\n",
       " 'vysadených',\n",
       " 'rebrách',\n",
       " 'a',\n",
       " 'tupo',\n",
       " 'sa',\n",
       " 'obzerá']"
      ]
     },
     "execution_count": 91,
     "metadata": {},
     "output_type": "execute_result"
    }
   ],
   "source": [
    "import string\n",
    "zoznam_slov = []\n",
    "neabecedne_znaky = string.punctuation\n",
    "neabecedne_znaky\n",
    "\n",
    "for slovo in slova:\n",
    "        for char in slovo:\n",
    "            if char in neabecedne_znaky:\n",
    "                slovo = slovo.replace(char, \"\")\n",
    "        if slovo not in neabecedne_znaky:\n",
    "            zoznam_slov.append(slovo)\n",
    "print(\"Počet slov:\", len(zoznam_slov), \"unikátnych\", len(set(zoznam_slov)))\n",
    "zoznam_slov [:30]\n"
   ]
  },
  {
   "cell_type": "code",
   "execution_count": 92,
   "id": "42615237",
   "metadata": {
    "collapsed": true
   },
   "outputs": [
    {
     "name": "stdout",
     "output_type": "stream",
     "text": [
      "Slovná zásoba na trénovanie má 90374 slov, unikátnych slov je 19679\n"
     ]
    },
    {
     "data": {
      "text/plain": [
       "[1008, 878, 2397, 9446, 8970, 6174, 5474, 13103, 11210, 8016]"
      ]
     },
     "execution_count": 92,
     "metadata": {},
     "output_type": "execute_result"
    }
   ],
   "source": [
    "slovnik= set(zoznam_slov) #unikátne slová\n",
    "print(\"Slovná zásoba na trénovanie má\", len(zoznam_slov),\"slov, unikátnych slov je\", len(slovnik))\n",
    "indexy_slov = {slovo: i for i, slovo in enumerate(slovnik)}\n",
    "zoznam_indexov_slov = [indexy_slov[slovo] for slovo in zoznam_slov]\n",
    "zoznam_indexov_slov[:10]\n"
   ]
  },
  {
   "cell_type": "code",
   "execution_count": 93,
   "id": "1f23a52a",
   "metadata": {},
   "outputs": [],
   "source": [
    "davka=5\n",
    "pocet_slov = len(zoznam_slov) #pocet slov knihy\n",
    "trenovacia_mnozina = [([zoznam_indexov_slov[i], zoznam_indexov_slov[i+1], zoznam_indexov_slov[i+2], zoznam_indexov_slov[i+3], zoznam_indexov_slov[i+4]], zoznam_indexov_slov[i+5]) for i in range(pocet_slov-davka) ]\n"
   ]
  },
  {
   "cell_type": "code",
   "execution_count": 94,
   "id": "67d54216",
   "metadata": {
    "collapsed": true
   },
   "outputs": [
    {
     "data": {
      "text/plain": [
       "[([1008, 878, 2397, 9446, 8970], 6174),\n",
       " ([878, 2397, 9446, 8970, 6174], 5474),\n",
       " ([2397, 9446, 8970, 6174, 5474], 13103),\n",
       " ([9446, 8970, 6174, 5474, 13103], 11210),\n",
       " ([8970, 6174, 5474, 13103, 11210], 8016),\n",
       " ([6174, 5474, 13103, 11210, 8016], 14215),\n",
       " ([5474, 13103, 11210, 8016, 14215], 13303),\n",
       " ([13103, 11210, 8016, 14215, 13303], 10100),\n",
       " ([11210, 8016, 14215, 13303, 10100], 4565),\n",
       " ([8016, 14215, 13303, 10100, 4565], 12490)]"
      ]
     },
     "execution_count": 94,
     "metadata": {},
     "output_type": "execute_result"
    }
   ],
   "source": [
    "trenovacia_mnozina[:10]"
   ]
  },
  {
   "cell_type": "code",
   "execution_count": 95,
   "id": "a503ae74",
   "metadata": {},
   "outputs": [],
   "source": [
    "import torch\n",
    "import torch.nn as nn\n",
    "import torch.nn.functional as F\n",
    "import torch.optim as optim\n",
    "import time\n",
    "\n",
    "embedding_dim = 5  #veľkosť embedding vektorov\n",
    "# === Trieda definujúca model neurónovej siete ===\n",
    "# Embedding (vložená vrstva) je skrytá vrstva NS ktorá\n",
    "# mapuje vstupné informácie z vysoko do nízko rozmerného priestoru\n",
    "\n",
    "class Model_NS(nn.Module):\n",
    "  def __init__(self, pocet_slov, embedding_dim, davka):\n",
    "    super(Model_NS, self).__init__()\n",
    "    self.embeddings = nn.Embedding(pocet_slov, embedding_dim)\n",
    "    self.linear1 = nn.Linear(davka * embedding_dim,128)  # lineárne transformácie ako vrstvy NS\n",
    "    self.linear2 = nn.Linear(128, 512)\n",
    "    self.linear3 = nn.Linear(512, pocet_slov)\n",
    "\n",
    "   # pri predpovedaní informácie prúdia „dopredu“\n",
    "   # zo vstupu cez skryté vrstvy na výstup\n",
    "   # výstupom sú logaritmy pravdepodobností\n",
    "  def forward(self, inputs):  # pri predpovedaní\n",
    "    embs = self.embeddings(inputs).view((1,-1))\n",
    "    out = F.relu(self.linear1(embs)) #lineárna aktivačná funkcia\n",
    "    out = F.relu(self.linear2(out))\n",
    "    out = self.linear3(out)\n",
    "    log_pravdepodobnosti = F.log_softmax(out, dim=1) #konvertuje číselné hodnoty na pravdepodobnosti\n",
    "    return log_pravdepodobnosti\n",
    "\n"
   ]
  },
  {
   "cell_type": "code",
   "execution_count": 96,
   "id": "533d3f78",
   "metadata": {
    "collapsed": true
   },
   "outputs": [
    {
     "name": "stdout",
     "output_type": "stream",
     "text": [
      "Embedding(90374, 5) \n",
      "\n"
     ]
    },
    {
     "data": {
      "text/plain": [
       "Model_NS(\n",
       "  (embeddings): Embedding(90374, 5)\n",
       "  (linear1): Linear(in_features=25, out_features=128, bias=True)\n",
       "  (linear2): Linear(in_features=128, out_features=512, bias=True)\n",
       "  (linear3): Linear(in_features=512, out_features=90374, bias=True)\n",
       ")"
      ]
     },
     "execution_count": 96,
     "metadata": {},
     "output_type": "execute_result"
    }
   ],
   "source": [
    "# model a výpis parametrov modelu\n",
    "model = Model_NS(pocet_slov, embedding_dim, davka)\n",
    "print(model.embeddings,\"\\n\")\n",
    "model \n"
   ]
  },
  {
   "cell_type": "code",
   "execution_count": 97,
   "id": "0ecf0ba1",
   "metadata": {},
   "outputs": [],
   "source": [
    "# === trénovanie modelu CPU ===\n",
    "device = torch.device(\"cpu\")"
   ]
  },
  {
   "cell_type": "code",
   "execution_count": 158,
   "id": "1f650d41",
   "metadata": {
    "collapsed": true
   },
   "outputs": [
    {
     "name": "stdout",
     "output_type": "stream",
     "text": [
      "cpu fyzické jadrá:  16\n",
      "cpu:logické jadrá  32\n",
      "scpufreq(current=2.3742187500000007, min=400.0, max=5881.0)\n",
      "1.1\n",
      "dict_items([('nvme', [shwtemp(label='Composite', current=34.85, high=81.85, critical=85.85)]), ('k10temp', [shwtemp(label='Tctl', current=35.625, high=None, critical=None), shwtemp(label='Tccd1', current=40.25, high=None, critical=None), shwtemp(label='Tccd2', current=28.875, high=None, critical=None)]), ('amdgpu', [shwtemp(label='edge', current=32.0, high=None, critical=None)])])\n",
      "-----\n",
      "35.625\n",
      "-----\n",
      "nvme\n",
      "    Composite            34.85 °C \n",
      "\n",
      "k10temp\n",
      "    Tctl                 35.625 °C \n",
      "\n",
      "    Tccd1                40.25 °C \n",
      "\n",
      "    Tccd2                28.875 °C \n",
      "\n",
      "amdgpu\n",
      "    edge                 32.0 °C \n",
      "\n"
     ]
    }
   ],
   "source": [
    "import psutil\n",
    "import psutil\n",
    "print (\"cpu fyzické jadrá: \",psutil.cpu_count(logical=False))\n",
    "print (\"cpu:logické jadrá \",psutil.cpu_count())\n",
    "print (psutil.cpu_freq())\n",
    "print (psutil.cpu_percent())\n",
    "temps = psutil.sensors_temperatures()\n",
    "print (temps.items())\n",
    "print(\"-----\")\n",
    "\n",
    "cpu_temp = psutil.sensors_temperatures()[\"k10temp\"][0]\n",
    "print(cpu_temp.current)\n",
    "print(\"-----\")\n",
    "   \n",
    "for name, entries in temps.items():\n",
    "        print(name)\n",
    "        for entry in entries:\n",
    " \n",
    "            line = \"    %-20s %s °C \" % (\n",
    "                entry.label or name,\n",
    "                entry.current,)\n",
    "                \n",
    "            print(line)\n",
    "            print()"
   ]
  },
  {
   "cell_type": "code",
   "execution_count": null,
   "id": "a5146dcb",
   "metadata": {},
   "outputs": [],
   "source": [
    "# === trénovanie modelu GPU ===\n",
    "from torch.cuda import is_available\n",
    "\n",
    "# Pokiaľ možno na GPU\n",
    "if torch.cuda.is_available():\n",
    "  device = torch.device(\"cuda:0\")\n",
    "else:\n",
    "  device = torch.device(\"cpu\")"
   ]
  },
  {
   "cell_type": "code",
   "execution_count": 168,
   "id": "2d9ec499",
   "metadata": {},
   "outputs": [],
   "source": [
    "from datetime import timedelta\n",
    "\n",
    "priebezne_chyby = []  # chyby po každých 1000 krokoch trénovania \n",
    "\n",
    "#red = '\\033[91m'\n",
    "#green = '\\033[92m'\n",
    "#yellow = '\\033[93m'\n",
    "#blue = '\\033[94m'\n",
    "#pink = '\\033[95m'\n",
    "#teal = '\\033[96m'\n",
    "#grey = '\\033[97m'\n",
    "\n",
    "psutil.sensors_temperatures() \n",
    "\n",
    "\n",
    "\n",
    "user = 'lubolacko' \n",
    "\n",
    "\n",
    "def format_td(seconds, digits=3):\n",
    "    isec, fsec = divmod(round(seconds*10**digits), 10**digits)\n",
    "    return f'{timedelta(seconds=isec)}.{fsec:0{digits}.0f}'\n",
    "\n",
    "\n",
    "def trenovanie(model, trenovacie_data, n_iteracie, word_to_index):\n",
    "  model.to(device)\n",
    "  for i in range(n_iteracie):\n",
    "    model.train()\n",
    "    krok = 0\n",
    "    perioda_vypisu = 100\n",
    "    akumulovana_chyba = 0  # na výpočet priemernej chyby po každých 1000 krokoch \n",
    "    \n",
    "    for feature, target in trenovacie_data:\n",
    "      feature_tensor = torch.tensor([feature], dtype=torch.long)\n",
    "      feature_tensor = feature_tensor.to(device)\n",
    "      target_tensor = torch.tensor([target], dtype=torch.long)\n",
    "      target_tensor = target_tensor.to(device)\n",
    "      model.zero_grad()  #vynulovanie gradientov\n",
    "      log_probs = model(feature_tensor)\n",
    "      loss = criterion(log_probs, target_tensor)\n",
    "      loss.backward()    #Spätný prechod pri aktualizácii parametrov\n",
    "      optimizer.step()\n",
    "      akumulovana_chyba += loss.item()\n",
    "      krok+=1\n",
    "\n",
    "      if krok % perioda_vypisu == 0:  #každých 1000 krokov\n",
    "        model.eval()\n",
    "        priemerna_chyba = akumulovana_chyba/perioda_vypisu\n",
    "        priebezne_chyby.append(priemerna_chyba) #pridám do zoznamu\n",
    "        sec = (time.time()-start_time)\n",
    "        cpu = psutil.cpu_percent()\n",
    "        cpu_temp = psutil.sensors_temperatures()[\"k10temp\"][0]\n",
    "        #print(cpu_temp.current)\n",
    "        # print (\"cpu:freq \",psutil.cpu_freq())\n",
    "        # print(psutil.cpu_percent(percpu=True))\n",
    "        print(i+1,\"z\",n_iteracie, \"iterácií\", krok,\"krok z\",pocet_slov,\n",
    "               \"Chyba: {:.3f}\".format(priemerna_chyba), \n",
    "               \"CPU: {:.2f}%\".format(cpu),  \n",
    "               \"{:.2f}°C\".format(cpu_temp.current),\n",
    "               \" čas {} \".format(format_td(sec, digits=2)))\n",
    "        \n",
    "        akumulovana_chyba=0\n",
    "    model.train()\n",
    "  return model\n"
   ]
  },
  {
   "cell_type": "code",
   "execution_count": 169,
   "id": "bac0c853",
   "metadata": {
    "collapsed": true
   },
   "outputs": [
    {
     "name": "stdout",
     "output_type": "stream",
     "text": [
      "1 z 2 iterácií 100 krok z 90374 Chyba: 11.401 CPU: 4.60% 56.50°C  čas 0:00:08.89 \n",
      "1 z 2 iterácií 200 krok z 90374 Chyba: 11.343 CPU: 50.80% 58.38°C  čas 0:00:17.82 \n",
      "1 z 2 iterácií 300 krok z 90374 Chyba: 11.288 CPU: 50.50% 59.50°C  čas 0:00:26.75 \n"
     ]
    },
    {
     "ename": "KeyboardInterrupt",
     "evalue": "",
     "output_type": "error",
     "traceback": [
      "\u001b[0;31m---------------------------------------------------------------------------\u001b[0m",
      "\u001b[0;31mKeyboardInterrupt\u001b[0m                         Traceback (most recent call last)",
      "Cell \u001b[0;32mIn[169], line 9\u001b[0m\n\u001b[1;32m      5\u001b[0m n_iteracie \u001b[38;5;241m=\u001b[39m \u001b[38;5;241m2\u001b[39m\n\u001b[1;32m      7\u001b[0m start_time \u001b[38;5;241m=\u001b[39m time\u001b[38;5;241m.\u001b[39mtime()\n\u001b[0;32m----> 9\u001b[0m model \u001b[38;5;241m=\u001b[39m trenovanie(model, trenovacia_mnozina, n_iteracie, indexy_slov)\n\u001b[1;32m     10\u001b[0m sec \u001b[38;5;241m=\u001b[39m (time\u001b[38;5;241m.\u001b[39mtime()\u001b[38;5;241m-\u001b[39mstart_time)\n\u001b[1;32m     11\u001b[0m mins \u001b[38;5;241m=\u001b[39m sec\u001b[38;5;241m/\u001b[39m\u001b[38;5;241m60\u001b[39m\n",
      "Cell \u001b[0;32mIn[168], line 41\u001b[0m, in \u001b[0;36mtrenovanie\u001b[0;34m(model, trenovacie_data, n_iteracie, word_to_index)\u001b[0m\n\u001b[1;32m     39\u001b[0m log_probs \u001b[38;5;241m=\u001b[39m model(feature_tensor)\n\u001b[1;32m     40\u001b[0m loss \u001b[38;5;241m=\u001b[39m criterion(log_probs, target_tensor)\n\u001b[0;32m---> 41\u001b[0m loss\u001b[38;5;241m.\u001b[39mbackward()    \u001b[38;5;66;03m#Spätný prechod pri aktualizácii parametrov\u001b[39;00m\n\u001b[1;32m     42\u001b[0m optimizer\u001b[38;5;241m.\u001b[39mstep()\n\u001b[1;32m     43\u001b[0m akumulovana_chyba \u001b[38;5;241m+\u001b[39m\u001b[38;5;241m=\u001b[39m loss\u001b[38;5;241m.\u001b[39mitem()\n",
      "File \u001b[0;32m~/anaconda3/lib/python3.11/site-packages/torch/_tensor.py:492\u001b[0m, in \u001b[0;36mTensor.backward\u001b[0;34m(self, gradient, retain_graph, create_graph, inputs)\u001b[0m\n\u001b[1;32m    482\u001b[0m \u001b[38;5;28;01mif\u001b[39;00m has_torch_function_unary(\u001b[38;5;28mself\u001b[39m):\n\u001b[1;32m    483\u001b[0m     \u001b[38;5;28;01mreturn\u001b[39;00m handle_torch_function(\n\u001b[1;32m    484\u001b[0m         Tensor\u001b[38;5;241m.\u001b[39mbackward,\n\u001b[1;32m    485\u001b[0m         (\u001b[38;5;28mself\u001b[39m,),\n\u001b[0;32m   (...)\u001b[0m\n\u001b[1;32m    490\u001b[0m         inputs\u001b[38;5;241m=\u001b[39minputs,\n\u001b[1;32m    491\u001b[0m     )\n\u001b[0;32m--> 492\u001b[0m torch\u001b[38;5;241m.\u001b[39mautograd\u001b[38;5;241m.\u001b[39mbackward(\n\u001b[1;32m    493\u001b[0m     \u001b[38;5;28mself\u001b[39m, gradient, retain_graph, create_graph, inputs\u001b[38;5;241m=\u001b[39minputs\n\u001b[1;32m    494\u001b[0m )\n",
      "File \u001b[0;32m~/anaconda3/lib/python3.11/site-packages/torch/autograd/__init__.py:251\u001b[0m, in \u001b[0;36mbackward\u001b[0;34m(tensors, grad_tensors, retain_graph, create_graph, grad_variables, inputs)\u001b[0m\n\u001b[1;32m    246\u001b[0m     retain_graph \u001b[38;5;241m=\u001b[39m create_graph\n\u001b[1;32m    248\u001b[0m \u001b[38;5;66;03m# The reason we repeat the same comment below is that\u001b[39;00m\n\u001b[1;32m    249\u001b[0m \u001b[38;5;66;03m# some Python versions print out the first line of a multi-line function\u001b[39;00m\n\u001b[1;32m    250\u001b[0m \u001b[38;5;66;03m# calls in the traceback and some print out the last line\u001b[39;00m\n\u001b[0;32m--> 251\u001b[0m Variable\u001b[38;5;241m.\u001b[39m_execution_engine\u001b[38;5;241m.\u001b[39mrun_backward(  \u001b[38;5;66;03m# Calls into the C++ engine to run the backward pass\u001b[39;00m\n\u001b[1;32m    252\u001b[0m     tensors,\n\u001b[1;32m    253\u001b[0m     grad_tensors_,\n\u001b[1;32m    254\u001b[0m     retain_graph,\n\u001b[1;32m    255\u001b[0m     create_graph,\n\u001b[1;32m    256\u001b[0m     inputs,\n\u001b[1;32m    257\u001b[0m     allow_unreachable\u001b[38;5;241m=\u001b[39m\u001b[38;5;28;01mTrue\u001b[39;00m,\n\u001b[1;32m    258\u001b[0m     accumulate_grad\u001b[38;5;241m=\u001b[39m\u001b[38;5;28;01mTrue\u001b[39;00m,\n\u001b[1;32m    259\u001b[0m )\n",
      "\u001b[0;31mKeyboardInterrupt\u001b[0m: "
     ]
    }
   ],
   "source": [
    "model = Model_NS(pocet_slov, embedding_dim, davka)\n",
    "criterion = nn.NLLLoss()\n",
    "optimizer = optim.SGD(model.parameters(),lr=0.01)\n",
    "\n",
    "n_iteracie = 2\n",
    "\n",
    "start_time = time.time()\n",
    "\n",
    "model = trenovanie(model, trenovacia_mnozina, n_iteracie, indexy_slov)\n",
    "sec = (time.time()-start_time)\n",
    "mins = sec/60\n",
    "\n",
    "print(\"Trénovanie modelu trvalo {} minút\".format(mins), \n",
    "      \"--- {} \".format(format_td(sec, digits=2)))  \n",
    "\n",
    "# Doplnenie modelu\n",
    "model.average_loss = priebezne_chyby\n",
    "model.optimizer_state = optimizer.state_dict()\n",
    "model.word_to_index = indexy_slov,\n",
    "model.index_to_word = {i: word for i, word in enumerate(slovnik)}\n"
   ]
  },
  {
   "cell_type": "code",
   "execution_count": 15,
   "id": "383e11be",
   "metadata": {},
   "outputs": [],
   "source": [
    "import pandas as pd\n",
    "import random\n",
    "\n",
    "\n",
    "def predpoved(model, zaciatok_poviedky ,dlzka_poviedky ,top_slova):\n",
    "    # top_slova - slovo sa vyberie náhodne z top_k počtu\n",
    "\n",
    "    # Prvých 5 slov do poviedky\n",
    "    vstupy = (zaciatok_poviedky.lower()).split(\" \") # Prvých 5 slov\n",
    "    for i in vstupy:\n",
    "        poviedka.append(i)\n",
    "    for i in range(dlzka_poviedky):\n",
    "        # slová na čísla (indexy)\n",
    "        vstupy_ix = torch.tensor([indexy_slov[word] for word in vstupy], dtype=torch.long)\n",
    "        vstupy_ix = vstupy_ix.to(device)\n",
    "        with torch.no_grad(): # nevoláme Tensor.backward() nemusíme počítať gradienty\n",
    "            output = model.double().forward(vstupy_ix)\n",
    "        ps = torch.exp(output)\n",
    "        top_kombinacia_indexy = ps.topk(top_slova, sorted=True)\n",
    "        #top_n najpravdepodobnejších slov\n",
    "        topk_ps = top_kombinacia_indexy[0][0]\n",
    "        top_ntica = top_kombinacia_indexy[1][0]\n",
    "        top_ntica = [model.index_to_word[int(i)] for i in top_ntica]\n",
    "        # náhodný výber slova z top_n\n",
    "        next_word = random.choice(top_ntica)\n",
    "        vstupy = vstupy[1:]  # pridanie slova do vstupov a posunutie\n",
    "        vstupy.append(next_word)\n",
    "        poviedka.append(next_word)  # pridanie slova do poviedky\n",
    "    return poviedka\n"
   ]
  },
  {
   "cell_type": "code",
   "execution_count": 18,
   "id": "dd656794",
   "metadata": {
    "collapsed": true
   },
   "outputs": [
    {
     "name": "stdout",
     "output_type": "stream",
     "text": [
      "Zadaj prvých 5 slov poviedky:\n",
      "obloha čoraz častejšie dostáva farbu\n",
      "\n",
      "=== Poviedka ===\n",
      "obloha čoraz častejšie dostáva farbu sa zdržuje rácz a o za pyšného po snežných pláňach stále dohora stále na sever psy ktoré z mesta po zdá si napokon pred hotelom no čo sa fiškál nasťahujú som dve ako všetkým sa dážď rozhodne už dávno po meste si reštauráciou sa už vyriešila vlasti na všetko deň svoju prídu sa fiškál unaví samozrejme stranu a na fiškála nikde hypotéku sa budú na mesto to on rácz vymyslel potrebovať nepozerá na jeseň ale no čo čo povedať rácz a nebola kohosi spokojne hotelom ambassador kravatu sa nik do si a pevne švéd a po celom meste si fiškáľa\n"
     ]
    }
   ],
   "source": [
    "zaciatok_poviedky = input('Zadaj prvých {} slov poviedky:\\n'.format(davka))\n",
    "\n",
    "top_slova = 3 # Slovo sa vyberie náhodne z top_k počtu\n",
    "dlzka_poviedky = 100\n",
    "poviedka = []\n",
    "\n",
    "if torch.cuda.is_available():\n",
    "    device = torch.device(\"cuda:0\")\n",
    "else:\n",
    "    device = torch.device(\"cpu\")\n",
    "\n",
    "# osetrenie vstupu, treba zadať 5 slov, ktoré model pozná\n",
    "try:\n",
    "    predikcia = predpoved(model, zaciatok_poviedky, dlzka_poviedky, top_slova)\n",
    "except KeyError as error:\n",
    "    print('niektorému zo slov zatiaľ nerozumiem\\n zadaj slová z kníh na ktorých som sa učil nie ', error)\n",
    "    if poviedka[0] != \"\":\n",
    "        poviedka = poviedka[len(zaciatok_poviedky):]\n",
    "    zaciatok_poviedky = input('zadaj slová ktorým rozumiem\\n')\n",
    "    predikcia = predpoved(model, zaciatok_poviedky, dlzka_poviedky, top_slova)\n",
    "except KeyError and RuntimeError:\n",
    "    if poviedka[0] != \"\":\n",
    "        poviedka = poviedka[len(zaciatok_poviedky):]\n",
    "    zaciatok_poviedky = input('Zadal si {} slov namiesto {}!\\n\\nZadaj presný počet slov\\n'.format(len(zaciatok_poviedky.split(\" \")), 5))\n",
    "    predikcia = predpoved(model, zaciatok_poviedky, dlzka_poviedky, top_slova)\n",
    "\n",
    "print('\\n=== Poviedka ===')\n",
    "print(\" \".join(poviedka))\n"
   ]
  },
  {
   "cell_type": "code",
   "execution_count": null,
   "id": "205bf70c",
   "metadata": {},
   "outputs": [],
   "source": []
  },
  {
   "cell_type": "code",
   "execution_count": null,
   "id": "2603a226",
   "metadata": {},
   "outputs": [],
   "source": []
  }
 ],
 "metadata": {
  "kernelspec": {
   "display_name": "Python 3 (ipykernel)",
   "language": "python",
   "name": "python3"
  },
  "language_info": {
   "codemirror_mode": {
    "name": "ipython",
    "version": 3
   },
   "file_extension": ".py",
   "mimetype": "text/x-python",
   "name": "python",
   "nbconvert_exporter": "python",
   "pygments_lexer": "ipython3",
   "version": "3.11.5"
  }
 },
 "nbformat": 4,
 "nbformat_minor": 5
}

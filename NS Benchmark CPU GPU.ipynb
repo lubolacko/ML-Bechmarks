{
 "cells": [
  {
   "cell_type": "code",
   "execution_count": 42,
   "id": "1d9d96ef",
   "metadata": {},
   "outputs": [
    {
     "name": "stderr",
     "output_type": "stream",
     "text": [
      "[nltk_data] Downloading package punkt to\n",
      "[nltk_data]     C:\\Users\\llack\\AppData\\Roaming\\nltk_data...\n",
      "[nltk_data]   Package punkt is already up-to-date!\n"
     ]
    },
    {
     "name": "stdout",
     "output_type": "stream",
     "text": [
      "Počet slov: 90374 unikátnych 19679\n"
     ]
    }
   ],
   "source": [
    "# Príprava textu\n",
    "# ==============\n",
    "\n",
    "import nltk\n",
    "import string\n",
    "\n",
    "#načítanie knihy \n",
    "kniha1 = open('./Rivers of Babylon.txt', 'r', encoding=\"utf8\")\n",
    "kniha1 = kniha1.read()\n",
    "\n",
    "#rozdelenie textu na slová\n",
    "nltk.download('punkt')\n",
    "from nltk.tokenize import word_tokenize\n",
    "slova = word_tokenize(kniha1.lower())\n",
    "\n",
    "#odstránenie neabecedných znakov\n",
    "neabecedne_znaky = string.punctuation #!\"#$%&\\'()*+,-./:;<=>?@[\\\\]^_`{|}~\n",
    "zoznam_slov = []   #všetky slová\n",
    "for slovo in slova:\n",
    "        for char in slovo:\n",
    "            if char in neabecedne_znaky:\n",
    "                slovo = slovo.replace(char, \"\")\n",
    "        if slovo not in neabecedne_znaky:\n",
    "            zoznam_slov.append(slovo)\n",
    "print(\"Počet slov:\", len(zoznam_slov), \"unikátnych\", len(set(zoznam_slov)))\n",
    "slovnik= set(zoznam_slov) #unikátne slová\n",
    "\n",
    "# konverzia slov na indexy\n",
    "indexy_slov = {slovo: i for i, slovo in enumerate(slovnik)}\n",
    "zoznam_indexov_slov = [indexy_slov[slovo] for slovo in zoznam_slov]\n",
    "\n",
    "# Príprava trénovacej množiny\n",
    "davka=5\n",
    "pocet_slov = len(zoznam_slov) #pocet slov knihy\n",
    "trenovacia_mnozina = [([zoznam_indexov_slov[i], zoznam_indexov_slov[i+1], zoznam_indexov_slov[i+2], zoznam_indexov_slov[i+3], zoznam_indexov_slov[i+4]], zoznam_indexov_slov[i+5]) for i in range(pocet_slov-davka) ]\n"
   ]
  },
  {
   "cell_type": "code",
   "execution_count": 43,
   "id": "a503ae74",
   "metadata": {},
   "outputs": [
    {
     "name": "stdout",
     "output_type": "stream",
     "text": [
      "Model_NS(\n",
      "  (embeddings): Embedding(90374, 5)\n",
      "  (linear1): Linear(in_features=25, out_features=128, bias=True)\n",
      "  (linear2): Linear(in_features=128, out_features=512, bias=True)\n",
      "  (linear3): Linear(in_features=512, out_features=90374, bias=True)\n",
      ")\n"
     ]
    }
   ],
   "source": [
    "#Trieda definujúca model neurónovej siete\n",
    "#========================================\n",
    "\n",
    "import torch\n",
    "import torch.nn as nn\n",
    "import torch.nn.functional as F\n",
    "import torch.optim as optim\n",
    "import time\n",
    "\n",
    "embedding_dim = 5  #veľkosť embedding vektorov\n",
    "# Embedding (vložená vrstva) je skrytá vrstva NS ktorá\n",
    "# mapuje vstupné informácie z vysoko do nízko rozmerného priestoru\n",
    "\n",
    "class Model_NS(nn.Module):\n",
    "  def __init__(self, pocet_slov, embedding_dim, davka):\n",
    "    super(Model_NS, self).__init__()\n",
    "    self.embeddings = nn.Embedding(pocet_slov, embedding_dim)\n",
    "    self.linear1 = nn.Linear(davka * embedding_dim,128)  # lineárne transformácie ako vrstvy NS\n",
    "    self.linear2 = nn.Linear(128, 512)\n",
    "    self.linear3 = nn.Linear(512, pocet_slov)\n",
    "\n",
    "   # pri predpovedaní informácie prúdia „dopredu“\n",
    "   # zo vstupu cez skryté vrstvy na výstup\n",
    "   # výstupom sú logaritmy pravdepodobností\n",
    "  def forward(self, inputs):  # pri predpovedaní\n",
    "    embs = self.embeddings(inputs).view((1,-1))\n",
    "    out = F.relu(self.linear1(embs)) #lineárna aktivačná funkcia\n",
    "    out = F.relu(self.linear2(out))\n",
    "    out = self.linear3(out)\n",
    "    #konvertuje číselné hodnoty na pravdepodobnosti\n",
    "    log_pravdepodobnosti = F.log_softmax(out, dim=1) \n",
    "    return log_pravdepodobnosti\n",
    "\n",
    "# model a výpis parametrov modelu\n",
    "model = Model_NS(pocet_slov, embedding_dim, davka)\n",
    "print(model)"
   ]
  },
  {
   "cell_type": "code",
   "execution_count": 29,
   "id": "d92da705",
   "metadata": {},
   "outputs": [
    {
     "name": "stdout",
     "output_type": "stream",
     "text": [
      "CPU\n",
      "fyzické jadrá:  20\n",
      "logické jadrá  28\n"
     ]
    }
   ],
   "source": [
    "# === trénovanie modelu CPU ===\n",
    "device = torch.device(\"cpu\")\n",
    "\n",
    "#nParametre CPU\n",
    "import psutil\n",
    "print(\"CPU\")\n",
    "print (\"fyzické jadrá: \",psutil.cpu_count(logical=False))\n",
    "print (\"logické jadrá \",psutil.cpu_count())"
   ]
  },
  {
   "cell_type": "code",
   "execution_count": 44,
   "id": "c62c9668",
   "metadata": {},
   "outputs": [],
   "source": [
    "# === trénovanie modelu GPU ===\n",
    "from torch.cuda import is_available\n",
    "\n",
    "# Pokiaľ možno na GPU\n",
    "if torch.cuda.is_available():\n",
    "  device = torch.device(\"cuda:0\")\n",
    "else:\n",
    "  device = torch.device(\"cpu\")"
   ]
  },
  {
   "cell_type": "code",
   "execution_count": 45,
   "id": "2d9ec499",
   "metadata": {},
   "outputs": [],
   "source": [
    "from datetime import timedelta\n",
    "\n",
    "priebezne_chyby = []  # chyby po každých nnn krokoch trénovania \n",
    "\n",
    "def format_td(seconds, digits=3):\n",
    "    isec, fsec = divmod(round(seconds*10**digits), 10**digits)\n",
    "    return f'{timedelta(seconds=isec)}.{fsec:0{digits}.0f}'\n",
    "\n",
    "\n",
    "def trenovanie(model, trenovacie_data, n_iteracie, word_to_index):\n",
    "  model.to(device)\n",
    "  n_time = time.time()\n",
    "  for i in range(n_iteracie):\n",
    "    model.train()\n",
    "    krok = 0\n",
    "    kroky_minuta = 0\n",
    "    akumulovana_chyba = 0  # na výpočet priemernej chyby po každých nnn krokoch \n",
    "    \n",
    "    for feature, target in trenovacie_data:\n",
    "      feature_tensor = torch.tensor([feature], dtype=torch.long)\n",
    "      feature_tensor = feature_tensor.to(device)\n",
    "      target_tensor = torch.tensor([target], dtype=torch.long)\n",
    "      target_tensor = target_tensor.to(device)\n",
    "      model.zero_grad()  #vynulovanie gradientov\n",
    "      log_probs = model(feature_tensor)\n",
    "      loss = criterion(log_probs, target_tensor)\n",
    "      loss.backward()    #Spätný prechod pri aktualizácii parametrov\n",
    "      optimizer.step()\n",
    "      akumulovana_chyba += loss.item()\n",
    "      krok+=1\n",
    "      kroky_minuta+=1\n",
    "        \n",
    "      sec = (time.time()-start_time)\n",
    "      sec1 = (time.time()-n_time)\n",
    "    \n",
    "      if sec1 >= 60:  #každú minutu\n",
    "        model.eval()\n",
    "        priemerna_chyba = akumulovana_chyba/kroky_minuta\n",
    "       \n",
    "        print(\"čas {} \".format(format_td(sec, digits=2)),\n",
    "               i+1,\"z\",n_iteracie, \"iterácií\", krok,\"krok z\",pocet_slov,\n",
    "               \"Chyba: {:.3f}\".format(priemerna_chyba),              \n",
    "              )      \n",
    "        akumulovana_chyba=0\n",
    "        kroky_minuta = 0\n",
    "        n_time = time.time()\n",
    "    model.train()\n",
    "  return model\n"
   ]
  },
  {
   "cell_type": "code",
   "execution_count": 46,
   "id": "bac0c853",
   "metadata": {},
   "outputs": [
    {
     "name": "stdout",
     "output_type": "stream",
     "text": [
      "čas 0:01:00.13  1 z 1 iterácií 11906 krok z 90374 Chyba: 9.033\n",
      "čas 0:02:00.13  1 z 1 iterácií 23730 krok z 90374 Chyba: 8.533\n",
      "čas 0:03:00.13  1 z 1 iterácií 35524 krok z 90374 Chyba: 8.515\n",
      "čas 0:04:00.14  1 z 1 iterácií 47413 krok z 90374 Chyba: 8.369\n",
      "čas 0:05:00.14  1 z 1 iterácií 59335 krok z 90374 Chyba: 8.237\n",
      "čas 0:06:00.14  1 z 1 iterácií 71262 krok z 90374 Chyba: 8.083\n",
      "čas 0:07:00.15  1 z 1 iterácií 83181 krok z 90374 Chyba: 8.274\n",
      "Trénovanie modelu trvalo 7.606516683101654 minút --- 0:07:36.39 \n"
     ]
    }
   ],
   "source": [
    "model = Model_NS(pocet_slov, embedding_dim, davka)\n",
    "criterion = nn.NLLLoss()\n",
    "optimizer = optim.SGD(model.parameters(),lr=0.01)\n",
    "\n",
    "n_iteracie = 1\n",
    "\n",
    "start_time = time.time()\n",
    "\n",
    "model = trenovanie(model, trenovacia_mnozina, n_iteracie, indexy_slov)\n",
    "sec = (time.time()-start_time)\n",
    "mins = sec/60\n",
    "\n",
    "print(\"Trénovanie modelu trvalo {} minút\".format(mins), \n",
    "      \"--- {} \".format(format_td(sec, digits=2)))  \n",
    "\n",
    "# Doplnenie modelu\n",
    "model.average_loss = priebezne_chyby\n",
    "model.optimizer_state = optimizer.state_dict()\n",
    "model.word_to_index = indexy_slov,\n",
    "model.index_to_word = {i: word for i, word in enumerate(slovnik)}\n"
   ]
  },
  {
   "cell_type": "code",
   "execution_count": 18,
   "id": "dd656794",
   "metadata": {
    "collapsed": true
   },
   "outputs": [
    {
     "name": "stdout",
     "output_type": "stream",
     "text": [
      "Zadaj prvých 5 slov poviedky:\n",
      "obloha čoraz častejšie dostáva farbu\n",
      "\n",
      "=== Poviedka ===\n",
      "obloha čoraz častejšie dostáva farbu sa zdržuje rácz a o za pyšného po snežných pláňach stále dohora stále na sever psy ktoré z mesta po zdá si napokon pred hotelom no čo sa fiškál nasťahujú som dve ako všetkým sa dážď rozhodne už dávno po meste si reštauráciou sa už vyriešila vlasti na všetko deň svoju prídu sa fiškál unaví samozrejme stranu a na fiškála nikde hypotéku sa budú na mesto to on rácz vymyslel potrebovať nepozerá na jeseň ale no čo čo povedať rácz a nebola kohosi spokojne hotelom ambassador kravatu sa nik do si a pevne švéd a po celom meste si fiškáľa\n"
     ]
    }
   ],
   "source": [
    "zaciatok_poviedky = input('Zadaj prvých {} slov poviedky:\\n'.format(davka))\n",
    "\n",
    "top_slova = 3 # Slovo sa vyberie náhodne z top_k počtu\n",
    "dlzka_poviedky = 100\n",
    "poviedka = []\n",
    "\n",
    "if torch.cuda.is_available():\n",
    "    device = torch.device(\"cuda:0\")\n",
    "else:\n",
    "    device = torch.device(\"cpu\")\n",
    "\n",
    "# osetrenie vstupu, treba zadať 5 slov, ktoré model pozná\n",
    "try:\n",
    "    predikcia = predpoved(model, zaciatok_poviedky, dlzka_poviedky, top_slova)\n",
    "except KeyError as error:\n",
    "    print('niektorému zo slov zatiaľ nerozumiem\\n zadaj slová z kníh na ktorých som sa učil nie ', error)\n",
    "    if poviedka[0] != \"\":\n",
    "        poviedka = poviedka[len(zaciatok_poviedky):]\n",
    "    zaciatok_poviedky = input('zadaj slová ktorým rozumiem\\n')\n",
    "    predikcia = predpoved(model, zaciatok_poviedky, dlzka_poviedky, top_slova)\n",
    "except KeyError and RuntimeError:\n",
    "    if poviedka[0] != \"\":\n",
    "        poviedka = poviedka[len(zaciatok_poviedky):]\n",
    "    zaciatok_poviedky = input('Zadal si {} slov namiesto {}!\\n\\nZadaj presný počet slov\\n'.format(len(zaciatok_poviedky.split(\" \")), 5))\n",
    "    predikcia = predpoved(model, zaciatok_poviedky, dlzka_poviedky, top_slova)\n",
    "\n",
    "print('\\n=== Poviedka ===')\n",
    "print(\" \".join(poviedka))\n"
   ]
  },
  {
   "cell_type": "code",
   "execution_count": null,
   "id": "205bf70c",
   "metadata": {},
   "outputs": [],
   "source": []
  },
  {
   "cell_type": "code",
   "execution_count": null,
   "id": "2603a226",
   "metadata": {},
   "outputs": [],
   "source": []
  }
 ],
 "metadata": {
  "kernelspec": {
   "display_name": "Python 3 (ipykernel)",
   "language": "python",
   "name": "python3"
  },
  "language_info": {
   "codemirror_mode": {
    "name": "ipython",
    "version": 3
   },
   "file_extension": ".py",
   "mimetype": "text/x-python",
   "name": "python",
   "nbconvert_exporter": "python",
   "pygments_lexer": "ipython3",
   "version": "3.11.5"
  }
 },
 "nbformat": 4,
 "nbformat_minor": 5
}
